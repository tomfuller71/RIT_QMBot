{
 "cells": [
  {
   "cell_type": "code",
   "execution_count": 1,
   "metadata": {},
   "outputs": [],
   "source": [
    "import sys\n",
    "import os\n",
    "from pathlib import Path\n",
    "\n",
    "from IPython.display import display, Markdown\n",
    "from openai import OpenAI\n",
    "from dotenv import dotenv_values\n",
    "\n",
    "# Add the parent directory to sys.path so Python can find the Utils module\n",
    "sys.path.append(os.path.abspath(\"..\"))\n",
    "\n",
    "from Utils import (\n",
    "    get_guidance_and_feedback,\n",
    "    get_questions_and_answers,\n",
    "    create_content,\n",
    ")\n",
    "\n",
    "# Get required environment variables\n",
    "config = dotenv_values(\"../.env\")\n",
    "open_api_key = config.get(\"OPENAI_API_KEY\", None)\n",
    "tutor_agent_id = config.get(\"TUTOR_AGENT_ID\", None)\n",
    "\n",
    "# Check if the environment variables are set\n",
    "if not (tutor_agent_id and open_api_key):\n",
    "    print(\"Need TUTOR_AGENT_ID and OPEN_API_KEY in the .env file\")\n",
    "    sys.exit(1)\n",
    "\n",
    "# Create the OpenAI client\n",
    "client = OpenAI(api_key=config[\"OPENAI_API_KEY\"])"
   ]
  },
  {
   "cell_type": "markdown",
   "metadata": {},
   "source": [
    "Generate the content for our prompt message to our bot.  Our prompt must look like the input examples we provided to our assistant in its instructions.  For this toy example we are using JSON files of question data and student answers as a store."
   ]
  },
  {
   "cell_type": "code",
   "execution_count": 2,
   "metadata": {},
   "outputs": [],
   "source": [
    "q_path = Path('../Data/question_store.json')\n",
    "a_path = Path('../Data/student_answers.json')\n",
    "questions, answers = get_questions_and_answers(q_path, a_path)"
   ]
  },
  {
   "cell_type": "markdown",
   "metadata": {},
   "source": [
    "Having loaded the question and answer data we can now create input content."
   ]
  },
  {
   "cell_type": "code",
   "execution_count": 3,
   "metadata": {},
   "outputs": [
    {
     "name": "stdout",
     "output_type": "stream",
     "text": [
      "Input:\n",
      "Exam Question: \"Can you observe the fundamental transition for Hydrogen gas using infrared spectroscopy? Explain your answer.\"\n",
      "Student Answer: \"To observe an H gas transition with IR a high-powered IR needs to be used since its transition energy is high.\"\n",
      "Concepts Tested: \n",
      "\t- Molecular Symmetry and Dipole Moment\n",
      "\t- Vibrational Transitions in IR Spectroscopy\n",
      "\t- Coupling of electromagnetic field oscillations with vibrations in the molecule\n",
      "Example Good Answer: \"Infrared spectroscopy relies on the interaction between molecular vibrations and the oscillating electric field of infrared light, requiring a molecule to have a dipole moment. During a vibrational transition, if this dipole moment changes, it can couple with the IR light's electric field, and this coupling allows the light to affect the dipole moment of the molecule. The effectiveness of this coupling, and thus the intensity of IR absorption, depends on the matching of the IR light's frequency with the molecule's vibrational frequency. However, molecular hydrogen (H2), being a homonuclear diatomic molecule, has no permanent dipole moment due to its symmetric electronic distribution, and its vibrational transitions do not result in a change in dipole moment. Consequently, there is no mechanism for coupling H2's vibrations with the electromagnetic field, leading to its absence in IR absorption spectra. Essentially, H2 does not interact with infrared light because there are no dipole moment changes to couple with the oscillating electromagnetic field.\"\n",
      "Common mistakes: \n",
      "\t- The student may not understand that as H2 is a homonuclear diatomic molecule it has no dipole moment.\n",
      "\t- The student may not understand that vibrations in a molecule's dipole moment can be coupled with vibrations of the electromagnetic field.\n",
      "\t- The student may not understand that IR spectroscopy requires the molecule to have a dipole moment for any absorption to take place.\n",
      "\n"
     ]
    }
   ],
   "source": [
    "question_id = \"Q1\"\n",
    "student_id = \"student_4\"\n",
    "\n",
    "question = questions[question_id]\n",
    "student_answer = answers[question_id][student_id]\n",
    "\n",
    "content = create_content(question, student_answer)\n",
    "print(content)"
   ]
  },
  {
   "cell_type": "markdown",
   "metadata": {},
   "source": [
    "Now we start a new conversation thread and send our content as a messages to our assistant.  This can take some time to run."
   ]
  },
  {
   "cell_type": "code",
   "execution_count": 4,
   "metadata": {},
   "outputs": [
    {
     "data": {
      "text/markdown": [
       "**Bot Message**:\n"
      ],
      "text/plain": [
       "<IPython.core.display.Markdown object>"
      ]
     },
     "metadata": {},
     "output_type": "display_data"
    },
    {
     "data": {
      "text/markdown": [
       "Your answer suggests that using a high-powered IR source might enable the observation of a fundamental transition in hydrogen gas. However, this is not accurate in the context of infrared spectroscopy and the properties of hydrogen gas.\n",
       "\n",
       "Infrared spectroscopy relies on the interaction between molecular vibrations and the oscillating electric field of infrared light. For a molecule to absorb IR radiation, it must have a dipole moment that changes during vibration. Hydrogen gas ($H_2$), being a homonuclear diatomic molecule, has no permanent dipole moment due to its symmetric electronic distribution. This symmetry means that during vibrational transitions, there is no change in dipole moment, and thus no coupling with the IR light's electric field. Therefore, regardless of the power of the IR source, $H_2$ cannot absorb IR radiation because there is no dipole moment change to interact with the electromagnetic field.\n",
       "\n",
       "To improve your understanding, consider reviewing the following sections in the textbook \"Quantum Chemistry\" by Donald A. Macquarrie:\n",
       "- **Chapter 5.6**: The Harmonic Oscillator Accounts for the Infrared Spectrum of a Diatomic Molecule. This section will help you understand how molecular vibrations relate to IR spectroscopy.\n",
       "- **Chapter 3.4**: Molecular Symmetry and Dipole Moment. This will clarify why homonuclear diatomic molecules like $H_2$ do not have a dipole moment and thus do not show IR activity.\n",
       "\n",
       "Understanding these concepts will help you better explain why certain molecules are inactive in IR spectroscopy and how molecular properties influence spectroscopic techniques.\n"
      ],
      "text/plain": [
       "<IPython.core.display.Markdown object>"
      ]
     },
     "metadata": {},
     "output_type": "display_data"
    },
    {
     "data": {
      "text/markdown": [
       "\n",
       "**Run object attributes**:\n",
       "- status: completed\n",
       "- temperature: 0.1\n",
       "- tools: [FileSearchTool(type='file_search')]\n",
       "- usage: Usage(completion_tokens=322, prompt_tokens=3389, total_tokens=3711)\n"
      ],
      "text/plain": [
       "<IPython.core.display.Markdown object>"
      ]
     },
     "metadata": {},
     "output_type": "display_data"
    }
   ],
   "source": [
    "thread, messages, run = get_guidance_and_feedback(\n",
    "    client, content, tutor_agent_id, temperature=0.1, thread_id=None, show_run=True)"
   ]
  },
  {
   "cell_type": "markdown",
   "metadata": {},
   "source": [
    "Now we have started the thread, we can continue if we want the chat with the bot."
   ]
  },
  {
   "cell_type": "code",
   "execution_count": 5,
   "metadata": {},
   "outputs": [
    {
     "data": {
      "text/markdown": [
       "**Bot Message**:\n"
      ],
      "text/plain": [
       "<IPython.core.display.Markdown object>"
      ]
     },
     "metadata": {},
     "output_type": "display_data"
    },
    {
     "data": {
      "text/markdown": [
       "The second postulate of quantum mechanics, which deals with the quantization of physical properties and the role of operators in quantum mechanics, is discussed in detail in Chapter 4 of the textbook \"Quantum Chemistry\" by Donald A. Macquarrie.\n",
       "\n",
       "Specifically, you should review:\n",
       "- **Chapter 4.2**: Quantum-Mechanical Operators and Observables. This section explains how physical observables are represented by operators in quantum mechanics, which is a core aspect of the second postulate.\n",
       "\n",
       "This section will provide a comprehensive understanding of how operators are used to describe measurable quantities in quantum mechanics and how these operators relate to the eigenvalues and eigenstates of the system.\n"
      ],
      "text/plain": [
       "<IPython.core.display.Markdown object>"
      ]
     },
     "metadata": {},
     "output_type": "display_data"
    },
    {
     "data": {
      "text/markdown": [
       "\n",
       "**Run object attributes**:\n",
       "- status: completed\n",
       "- temperature: 0.1\n",
       "- tools: [FileSearchTool(type='file_search')]\n",
       "- usage: Usage(completion_tokens=138, prompt_tokens=3731, total_tokens=3869)\n"
      ],
      "text/plain": [
       "<IPython.core.display.Markdown object>"
      ]
     },
     "metadata": {},
     "output_type": "display_data"
    }
   ],
   "source": [
    "follow_up = \"Which section of the textbook explains the second postulate of quantum mechanics?\"\n",
    "thread, messages, run = get_guidance_and_feedback(\n",
    "    client, follow_up, tutor_agent_id, temperature=0.1, thread_id=thread, show_run=True)"
   ]
  }
 ],
 "metadata": {
  "kernelspec": {
   "display_name": "env",
   "language": "python",
   "name": "python3"
  },
  "language_info": {
   "codemirror_mode": {
    "name": "ipython",
    "version": 3
   },
   "file_extension": ".py",
   "mimetype": "text/x-python",
   "name": "python",
   "nbconvert_exporter": "python",
   "pygments_lexer": "ipython3",
   "version": "3.11.9"
  }
 },
 "nbformat": 4,
 "nbformat_minor": 2
}
