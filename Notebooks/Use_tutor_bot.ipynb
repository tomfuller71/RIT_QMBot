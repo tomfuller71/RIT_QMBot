{
 "cells": [
  {
   "cell_type": "code",
   "execution_count": 1,
   "metadata": {},
   "outputs": [],
   "source": [
    "import sys\n",
    "import os\n",
    "from pathlib import Path\n",
    "\n",
    "from IPython.display import Markdown\n",
    "from openai import OpenAI\n",
    "from dotenv import dotenv_values\n",
    "\n",
    "# Add the parent directory to sys.path so Python can find the Utils module\n",
    "sys.path.append(os.path.abspath(\"..\"))\n",
    "\n",
    "from Utils import (\n",
    "    get_guidance_and_feedback,\n",
    "    get_questions_and_answers,\n",
    "    create_content,\n",
    ")\n",
    "\n",
    "# Get required environment variables\n",
    "config = dotenv_values(\"../.env\")\n",
    "open_api_key = config.get(\"OPENAI_API_KEY\", None)\n",
    "tutor_agent_id = config.get(\"TUTOR_AGENT_ID\", None)\n",
    "\n",
    "# Check if the environment variables are set\n",
    "if not (tutor_agent_id and open_api_key):\n",
    "    print(\"Need TUTOR_AGENT_ID and OPEN_API_KEY in the .env file\")\n",
    "    sys.exit(1)\n",
    "\n",
    "# Create the OpenAI client\n",
    "client = OpenAI(api_key=config[\"OPENAI_API_KEY\"])"
   ]
  },
  {
   "cell_type": "markdown",
   "metadata": {},
   "source": [
    "Generate the content for our prompt message to our bot.  Our prompt must look like the input examples we provided to our assistant in its instructions.  For this toy example we are using JSON files of question data and student answers as a store."
   ]
  },
  {
   "cell_type": "code",
   "execution_count": 2,
   "metadata": {},
   "outputs": [],
   "source": [
    "q_path = Path('../Data/question_store.json')\n",
    "a_path = Path('../Data/student_answers.json')\n",
    "questions, answers = get_questions_and_answers(q_path, a_path)"
   ]
  },
  {
   "cell_type": "markdown",
   "metadata": {},
   "source": [
    "Having loaded the question and answer data we can now create input content."
   ]
  },
  {
   "cell_type": "code",
   "execution_count": 3,
   "metadata": {},
   "outputs": [],
   "source": [
    "question_id = \"Q7_43\"\n",
    "student_id = \"student_3\"\n",
    "\n",
    "question = questions[question_id]\n",
    "student_answer = answers[question_id][student_id]\n",
    "\n",
    "content = create_content(question, student_answer)"
   ]
  },
  {
   "cell_type": "markdown",
   "metadata": {},
   "source": [
    "Now we start a new conversation thread and send our content as a messages to our assistant.  This can take some time to run."
   ]
  },
  {
   "cell_type": "code",
   "execution_count": 7,
   "metadata": {},
   "outputs": [
    {
     "data": {
      "text/markdown": [
       "**Bot Message**:\n"
      ],
      "text/plain": [
       "<IPython.core.display.Markdown object>"
      ]
     },
     "metadata": {},
     "output_type": "display_data"
    },
    {
     "data": {
      "text/markdown": [
       "Your response to the exam question shows some understanding of the impact of external factors on the hydrogen atom, but it contains significant inaccuracies and omissions that need to be addressed to fully meet the requirements of the question.\n",
       "\n",
       "**Feedback on Your Answer:**\n",
       "\n",
       "1. **Misunderstanding of Energy Modification**: You mentioned that the energy modification is due to the absorption of a photon. This is incorrect in the context of the question. The energy modification in this scenario is due to the interaction of the electron's magnetic moment with an external magnetic field, not photon absorption.\n",
       "\n",
       "2. **Hamiltonian Modification**: Your answer does not address how the Hamiltonian operator is modified in the presence of a magnetic field. The correct approach is to include a term that accounts for the interaction between the electron's magnetic moment and the magnetic field, specifically the Zeeman term.\n",
       "\n",
       "3. **Schrodinger Equation**: You did not provide the Schrodinger equation for the hydrogen atom in the absence of an external magnetic field as requested. The correct form involves the Hamiltonian operator that includes only the kinetic and Coulomb potential terms.\n",
       "\n",
       "4. **Energy Levels in a Magnetic Field**: You did not discuss how the energy levels of the hydrogen atom are affected by the external magnetic field. The presence of the magnetic field leads to a splitting of the energy levels, a phenomenon known as the Zeeman effect.\n",
       "\n",
       "**Correct Concepts and Guidance:**\n",
       "\n",
       "- **Energy Modification**: The energy of the hydrogen atom in a magnetic field includes the original kinetic and potential energy terms plus an additional term for the magnetic interaction. This can be expressed as:\n",
       "  $$\n",
       "  E = E_0 + \\frac{eB_zL_z}{2m_e}\n",
       "  $$\n",
       "  where $E_0$ is the energy without the magnetic field.\n",
       "\n",
       "- **Hamiltonian Operator**: The Hamiltonian in the presence of a magnetic field is:\n",
       "  $$\n",
       "  \\hat{H} = \\hat{H_0} + \\frac{eB_z}{2m_e} \\hat{L}_z\n",
       "  $$\n",
       "  This includes the original Hamiltonian $\\hat{H_0}$ and an additional term that represents the interaction of the electron's orbital angular momentum with the magnetic field.\n",
       "\n",
       "- **Schrodinger Equation**: In the absence of a magnetic field, the Schrodinger equation is:\n",
       "  $$\n",
       "  \\hat{H_0} \\psi = E \\psi\n",
       "  $$\n",
       "  where $\\hat{H_0}$ includes the kinetic and Coulomb potential terms.\n",
       "\n",
       "- **Energy Levels with Magnetic Field**: In the presence of a magnetic field, the energy levels are split according to the magnetic quantum number $m_l$, reflecting the Zeeman effect:\n",
       "  $$\n",
       "  E = E_0 + \\beta_B m_l B_z\n",
       "  $$\n",
       "  where $\\beta_B = \\frac{e\\hbar}{2m_e}$.\n",
       "\n",
       "**Suggested Sections for Review**:\n",
       "- Review the sections on the Hamiltonian for a hydrogen atom and the effects of a magnetic field. Specifically, look at the sections discussing the Zeeman effect and how magnetic fields interact with atomic structures.\n",
       "- Chapter 7, particularly around the development of the Hamiltonian and the Schrodinger equation for systems in external fields.\n",
       "\n",
       "By revisiting these concepts and correcting the misunderstandings in your answer, you'll gain a better grasp of how external fields influence quantum systems like the hydrogen atom.\n"
      ],
      "text/plain": [
       "<IPython.core.display.Markdown object>"
      ]
     },
     "metadata": {},
     "output_type": "display_data"
    },
    {
     "data": {
      "text/markdown": [
       "\n",
       "**Run object attributes**:\n",
       "- status: completed\n",
       "- temperature: 0.1\n",
       "- tools: [FileSearchTool(type='file_search')]\n",
       "- usage: Usage(completion_tokens=696, prompt_tokens=3869, total_tokens=4565)\n"
      ],
      "text/plain": [
       "<IPython.core.display.Markdown object>"
      ]
     },
     "metadata": {},
     "output_type": "display_data"
    }
   ],
   "source": [
    "thread, messages, run = get_guidance_and_feedback(\n",
    "    client, content, tutor_agent_id, temperature=0.1, thread_id=None, show_run=True)"
   ]
  },
  {
   "cell_type": "markdown",
   "metadata": {},
   "source": [
    "Now we have started the thread, we can continue if we want the chat with the bot."
   ]
  },
  {
   "cell_type": "code",
   "execution_count": 5,
   "metadata": {},
   "outputs": [
    {
     "data": {
      "text/markdown": [
       "**Bot Message**:\n"
      ],
      "text/plain": [
       "<IPython.core.display.Markdown object>"
      ]
     },
     "metadata": {},
     "output_type": "display_data"
    },
    {
     "data": {
      "text/markdown": [
       "The splitting of energy levels of a hydrogen atom when placed in an external magnetic field is discussed in Chapter 7, Section 7.4 of the textbook \"Quantum Chemistry\" by Donald A. McQuarrie. This section explains how the energy levels are split into sublevels, leading to the splitting of spectral lines, a phenomenon known as the Zeeman effect. For a detailed explanation, you can refer to this section in your textbook [0].\n",
       "[0] None from QUANTUM_CHEMISTRY_SECOND_EDITION.pdf"
      ],
      "text/plain": [
       "<IPython.core.display.Markdown object>"
      ]
     },
     "metadata": {},
     "output_type": "display_data"
    },
    {
     "data": {
      "text/markdown": [
       "\n",
       "**Run object attributes**:\n",
       "- status: completed\n",
       "- temperature: 0.1\n",
       "- tools: [FileSearchTool(type='file_search')]\n",
       "- usage: Usage(completion_tokens=119, prompt_tokens=24551, total_tokens=24670)\n"
      ],
      "text/plain": [
       "<IPython.core.display.Markdown object>"
      ]
     },
     "metadata": {},
     "output_type": "display_data"
    }
   ],
   "source": [
    "follow_up = \"Which section of the textbook explains the splitting of energy levels when the atom is in an external magnetic field?\"\n",
    "thread, messages, run = get_guidance_and_feedback(\n",
    "    client, follow_up, tutor_agent_id, temperature=0.1, thread_id=thread, show_run=True)"
   ]
  }
 ],
 "metadata": {
  "kernelspec": {
   "display_name": "env",
   "language": "python",
   "name": "python3"
  },
  "language_info": {
   "codemirror_mode": {
    "name": "ipython",
    "version": 3
   },
   "file_extension": ".py",
   "mimetype": "text/x-python",
   "name": "python",
   "nbconvert_exporter": "python",
   "pygments_lexer": "ipython3",
   "version": "3.11.9"
  }
 },
 "nbformat": 4,
 "nbformat_minor": 2
}
