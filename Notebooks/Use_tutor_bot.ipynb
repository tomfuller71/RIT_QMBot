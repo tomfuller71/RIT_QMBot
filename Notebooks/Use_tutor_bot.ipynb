{
 "cells": [
  {
   "cell_type": "code",
   "execution_count": 1,
   "metadata": {},
   "outputs": [],
   "source": [
    "import sys\n",
    "import os\n",
    "from pathlib import Path\n",
    "\n",
    "from IPython.display import display, Markdown\n",
    "from openai import OpenAI\n",
    "from dotenv import dotenv_values\n",
    "\n",
    "# Add the parent directory to sys.path so Python can find the Utils module\n",
    "sys.path.append(os.path.abspath(\"..\"))\n",
    "\n",
    "from Utils import (\n",
    "    get_guidance_and_feedback,\n",
    "    get_questions_and_answers,\n",
    "    create_content,\n",
    ")\n",
    "\n",
    "# Get required environment variables\n",
    "config = dotenv_values(\"../.env\")\n",
    "open_api_key = config.get(\"OPENAI_API_KEY\", None)\n",
    "tutor_agent_id = config.get(\"TUTOR_AGENT_ID\", None)\n",
    "\n",
    "# Check if the environment variables are set\n",
    "if not (tutor_agent_id and open_api_key):\n",
    "    print(\"Need TUTOR_AGENT_ID and OPEN_API_KEY in the .env file\")\n",
    "    sys.exit(1)\n",
    "\n",
    "# Create the OpenAI client\n",
    "client = OpenAI(api_key=config[\"OPENAI_API_KEY\"])"
   ]
  },
  {
   "cell_type": "markdown",
   "metadata": {},
   "source": [
    "Generate the content for our prompt message to our bot.  Our prompt must look like the input examples we provided to our assistant in its instructions.  For this toy example we are using JSON files of question data and student answers as a store."
   ]
  },
  {
   "cell_type": "code",
   "execution_count": 2,
   "metadata": {},
   "outputs": [],
   "source": [
    "q_path = Path('../Data/question_store.json')\n",
    "a_path = Path('../Data/student_answers.json')\n",
    "questions, answers = get_questions_and_answers(q_path, a_path)"
   ]
  },
  {
   "cell_type": "markdown",
   "metadata": {},
   "source": [
    "Having loaded the question and answer data we can now create input content."
   ]
  },
  {
   "cell_type": "code",
   "execution_count": 4,
   "metadata": {},
   "outputs": [],
   "source": [
    "question_id = \"Q7_43\"\n",
    "student_id = \"student_3\"\n",
    "\n",
    "question = questions[question_id]\n",
    "student_answer = answers[question_id][student_id]\n",
    "\n",
    "content = create_content(question, student_answer)"
   ]
  },
  {
   "cell_type": "markdown",
   "metadata": {},
   "source": [
    "Now we start a new conversation thread and send our content as a messages to our assistant.  This can take some time to run."
   ]
  },
  {
   "cell_type": "code",
   "execution_count": 5,
   "metadata": {},
   "outputs": [
    {
     "data": {
      "text/markdown": [
       "**Bot Message**:\n"
      ],
      "text/plain": [
       "<IPython.core.display.Markdown object>"
      ]
     },
     "metadata": {},
     "output_type": "display_data"
    },
    {
     "data": {
      "text/markdown": [
       "Your response to the exam question shows an understanding of the need to modify the energy of the hydrogen atom when an external magnetic field is applied, but there are several inaccuracies and areas for improvement in your answer:\n",
       "\n",
       "1. **Misunderstanding of Photon Absorption**: Your answer suggests that the modification of the energy involves the absorption of a photon. This is incorrect in the context of the question. The modification of the energy in this scenario is due to the interaction of the electron's magnetic moment with the external magnetic field, not due to photon absorption.\n",
       "\n",
       "2. **Hamiltonian Modification**: You did not mention how the Hamiltonian operator is modified to include the magnetic interaction term. The correct approach is to add a term that accounts for the interaction between the electron's magnetic moment and the magnetic field, specifically, $\\frac{eB_z}{2m_e} \\hat{L}_z$.\n",
       "\n",
       "3. **Schrodinger Equation Formulation**: The Schrödinger equation in the absence of an external magnetic field should be formulated using only the kinetic and Coulomb potential terms, as shown in the example good answer. Your response did not provide this equation.\n",
       "\n",
       "4. **Energy Levels in a Magnetic Field**: You did not address how the energy levels of the hydrogen atom are affected by the external magnetic field. The energy levels are split due to the Zeeman effect, which is a result of the interaction between the magnetic field and the magnetic moment associated with the electron's orbital angular momentum.\n",
       "\n",
       "To improve your understanding and answer, consider reviewing the following sections in the textbook \"Quantum Chemistry\" by Donald A. McQuarrie:\n",
       "\n",
       "- **Chapter 7.3**: This section discusses the Hamiltonian for a hydrogen atom and how it is constructed from classical descriptions.\n",
       "- **Chapter 7.4**: Focus on how external fields affect the Hamiltonian and the resulting changes in the energy levels of the system.\n",
       "\n",
       "By reviewing these sections, you should gain a better understanding of how to correctly modify the Hamiltonian for a hydrogen atom in the presence of an external magnetic field and how to derive the corresponding Schrödinger equation. This will also help you understand the physical significance of each term in the Hamiltonian and the energy equation.\n"
      ],
      "text/plain": [
       "<IPython.core.display.Markdown object>"
      ]
     },
     "metadata": {},
     "output_type": "display_data"
    },
    {
     "data": {
      "text/markdown": [
       "\n",
       "**Run object attributes**:\n",
       "- status: completed\n",
       "- temperature: 0.1\n",
       "- tools: [FileSearchTool(type='file_search')]\n",
       "- usage: Usage(completion_tokens=452, prompt_tokens=3872, total_tokens=4324)\n"
      ],
      "text/plain": [
       "<IPython.core.display.Markdown object>"
      ]
     },
     "metadata": {},
     "output_type": "display_data"
    }
   ],
   "source": [
    "thread, messages, run = get_guidance_and_feedback(\n",
    "    client, content, tutor_agent_id, temperature=0.1, thread_id=None, show_run=True)"
   ]
  },
  {
   "cell_type": "markdown",
   "metadata": {},
   "source": [
    "Now we have started the thread, we can continue if we want the chat with the bot."
   ]
  },
  {
   "cell_type": "code",
   "execution_count": 15,
   "metadata": {},
   "outputs": [
    {
     "data": {
      "text/markdown": [
       "**Bot Message**:\n"
      ],
      "text/plain": [
       "<IPython.core.display.Markdown object>"
      ]
     },
     "metadata": {},
     "output_type": "display_data"
    },
    {
     "data": {
      "text/markdown": [
       "The splitting of energy levels in an atom when subjected to an external magnetic field, known as the Zeeman effect, is typically discussed in sections of the textbook that deal with the interaction of atomic systems with magnetic fields. In the context of the \"Quantum Chemistry\" textbook by Donald A. Macquarrie, you should look into:\n",
       "\n",
       "- **Chapter 5, Section 5.6**: This section is likely to discuss the effects of magnetic fields on atomic systems, including the Zeeman effect. It explains how the Hamiltonian is modified by the presence of a magnetic field and how this leads to the splitting of energy levels.\n",
       "\n",
       "Reviewing this section will provide a detailed understanding of how magnetic fields interact with atomic systems, leading to observable phenomena like the Zeeman effect. This is crucial for understanding both the theoretical and practical implications of quantum mechanics in fields such as spectroscopy.\n"
      ],
      "text/plain": [
       "<IPython.core.display.Markdown object>"
      ]
     },
     "metadata": {},
     "output_type": "display_data"
    },
    {
     "data": {
      "text/markdown": [
       "\n",
       "**Run object attributes**:\n",
       "- status: completed\n",
       "- temperature: 0.1\n",
       "- tools: [FileSearchTool(type='file_search')]\n",
       "- usage: Usage(completion_tokens=178, prompt_tokens=5145, total_tokens=5323)\n"
      ],
      "text/plain": [
       "<IPython.core.display.Markdown object>"
      ]
     },
     "metadata": {},
     "output_type": "display_data"
    }
   ],
   "source": [
    "follow_up = \"Which section of the textbook explains the splitting of energy levels when the atom is in an external magnetic field?\"\n",
    "thread, messages, run = get_guidance_and_feedback(\n",
    "    client, follow_up, tutor_agent_id, temperature=0.1, thread_id=thread, show_run=True)"
   ]
  },
  {
   "cell_type": "code",
   "execution_count": null,
   "metadata": {},
   "outputs": [
    {
     "data": {
      "text/markdown": [
       "**Bot Message**:\n"
      ],
      "text/plain": [
       "<IPython.core.display.Markdown object>"
      ]
     },
     "metadata": {},
     "output_type": "display_data"
    },
    {
     "data": {
      "text/markdown": [
       "The second postulate of quantum mechanics, which involves replacing classical observables with quantum mechanical operators, is typically discussed in the context of the formulation of quantum mechanics principles. In the textbook \"Quantum Chemistry\" by Donald A. Macquarrie, you can find detailed explanations of this postulate in:\n",
       "\n",
       "- **Chapter 3**, specifically in the sections that discuss quantum operators and their application in quantum mechanics.\n",
       "\n",
       "This section will help you understand how physical observables are represented as operators in the quantum mechanical framework, which is crucial for formulating the Hamiltonian and solving the Schrödinger equation.\n"
      ],
      "text/plain": [
       "<IPython.core.display.Markdown object>"
      ]
     },
     "metadata": {},
     "output_type": "display_data"
    },
    {
     "data": {
      "text/markdown": [
       "\n",
       "**Run object attributes**:\n",
       "- status: completed\n",
       "- temperature: 0.1\n",
       "- tools: [FileSearchTool(type='file_search')]\n",
       "- usage: Usage(completion_tokens=123, prompt_tokens=4269, total_tokens=4392)\n"
      ],
      "text/plain": [
       "<IPython.core.display.Markdown object>"
      ]
     },
     "metadata": {},
     "output_type": "display_data"
    }
   ],
   "source": [
    "follow_up = \"Which section of the textbook explains the second postulate of quantum mechanics?\"\n",
    "thread, messages, run = get_guidance_and_feedback(\n",
    "    client, follow_up, tutor_agent_id, temperature=0.1, thread_id=thread, show_run=True)"
   ]
  }
 ],
 "metadata": {
  "kernelspec": {
   "display_name": "env",
   "language": "python",
   "name": "python3"
  },
  "language_info": {
   "codemirror_mode": {
    "name": "ipython",
    "version": 3
   },
   "file_extension": ".py",
   "mimetype": "text/x-python",
   "name": "python",
   "nbconvert_exporter": "python",
   "pygments_lexer": "ipython3",
   "version": "3.11.9"
  }
 },
 "nbformat": 4,
 "nbformat_minor": 2
}
