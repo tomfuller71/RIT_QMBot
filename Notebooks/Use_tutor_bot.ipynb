{
 "cells": [
  {
   "cell_type": "code",
   "execution_count": 7,
   "metadata": {},
   "outputs": [],
   "source": [
    "import sys\n",
    "import os\n",
    "from pathlib import Path\n",
    "\n",
    "from IPython.display import display, Markdown\n",
    "from openai import OpenAI\n",
    "from dotenv import dotenv_values\n",
    "\n",
    "# Add the parent directory to sys.path so Python can find the Utils module\n",
    "sys.path.append(os.path.abspath(\"..\"))\n",
    "\n",
    "from Utils import (\n",
    "    get_guidance_and_feedback,\n",
    "    get_questions_and_answers,\n",
    "    create_content,\n",
    ")\n",
    "\n",
    "# Get required environment variables\n",
    "config = dotenv_values(\"../.env\")\n",
    "open_api_key = config.get(\"OPENAI_API_KEY\", None)\n",
    "tutor_agent_id = config.get(\"TUTOR_AGENT_ID\", None)\n",
    "\n",
    "# Check if the environment variables are set\n",
    "if not (tutor_agent_id and open_api_key):\n",
    "    print(\"Need TUTOR_AGENT_ID and OPEN_API_KEY in the .env file\")\n",
    "    sys.exit(1)\n",
    "\n",
    "# Create the OpenAI client\n",
    "client = OpenAI(api_key=config[\"OPENAI_API_KEY\"])"
   ]
  },
  {
   "cell_type": "markdown",
   "metadata": {},
   "source": [
    "Generate the content for our prompt message to our bot.  Our prompt must look like the input examples we provided to our assistant in its instructions.  For this toy example we are using JSON files of question data and student answers as a store."
   ]
  },
  {
   "cell_type": "code",
   "execution_count": 8,
   "metadata": {},
   "outputs": [],
   "source": [
    "q_path = Path('../Data/question_store.json')\n",
    "a_path = Path('../Data/student_answers.json')\n",
    "questions, answers = get_questions_and_answers(q_path, a_path)"
   ]
  },
  {
   "cell_type": "markdown",
   "metadata": {},
   "source": [
    "Having loaded the question and answer data we can now create input content."
   ]
  },
  {
   "cell_type": "code",
   "execution_count": 13,
   "metadata": {},
   "outputs": [
    {
     "name": "stdout",
     "output_type": "stream",
     "text": [
      "Input:\n",
      "Exam Question: \"[\"Let's assume the applied field is in the $z$ direction, and: $V =- m_z B_z$ For the electron we had: $\\\\\\\\mathbf{m} = \\\\\\\\frac{-e}{2m_e} \\\\\\\\mathbf{L}$ So $m_z=\\\\\\\\frac{-eL_z}{2m_e}=-\\\\\\\\frac{V}{B_z}$ So $V=\\\\\\\\frac{eB_zL_z}{2m_e}$ And this is the potential energy for when there is an external magnetic field applied to an orbiting electron. Recall that to solve the Schrodinger Equation for the Hydrogen atom we built up a Hamiltonian Operator, which we will call $\\\\hat{H_0}$, that had a kinetic energy term and a potential energy term.\", 'How do we now modify the energy of our Hydrogen Atom, in classical terms? Describe in words what each of the three terms will represent?', 'What does our Hamiltonian operator, $\\\\hat{H}$ now become in terms of $\\\\hat{H_0}$ and $\\\\hat{L}_z$?', 'Write out the Schrodinger equation that would be obtained for our hydrogen atom in the absence of an external magnetic field using $\\\\hat{H_0}$. You may use equation 7.12 from the text book to help you remember the eigenvalue.', 'Given what you already know about the solution to the eigenvalue equation for $\\\\hat{L}_z\\\\psi_{nlm_l}(r,\\\\theta,\\\\phi)$ what does the energy of our hydrogen atom become, in an applied external magnetic field, where we can simplify things by defining: $\\\\beta_B=\\\\frac{e\\\\hbar}{2m_e}$']\"\n",
      "Student Answer: \"modify the energy because a photon is absorbed by the hydrogen atom. We then need to add the photon energy to the equation for the energy in the schrodinger equation\"\n",
      "Concepts Tested: \n",
      "\t- The effect of an external magnetic field on the energy of a hydrogen atom\n",
      "\t- The Hamiltonian operator for a hydrogen atom in the presence of an external magnetic field\n",
      "\t- building the hamiltonian operator based on the classical description for the system of interest and then finding appropriate quantum mechanical operators to replace the classical observables\n",
      "\t- The energy levels of a hydrogen atom based on the eigenvalues from the schrodinger equation absent an external magnetic field\n",
      "\t- solving the eigenvalue equation for the angular momentum operator $\\hat{L}_z$, and recognizing that the wavefunction remains an eignefunction because the operator for L_z commutes with the Hamiltonian operator\n",
      "Example Good Answer: \"[\"Part_A To account for the magnetic field, the energy of the hydrogen atom must include the magnetic interaction term. The modified energy consists of the original kinetic and potential energy terms from $\\\\\\\\hat{H_0}$ plus an additional term for the interaction between the magnetic moment of the electron and the magnetic field. These terms represent: 1. Kinetic Energy: Energy due to the motion of the electron. 2. Coulomb Potential Energy: Energy due to the electrostatic potential between the electron and the nucleus. 3. Magnetic Potential Energy: Energy arising from the interaction of the electron's magnetic moment with the external magnetic field.\", 'Part_B The Hamiltonian $\\\\hat{H}$ now includes the Zeeman term due to the magnetic field: $\\\\\\\\hat{H} = \\\\\\\\hat{H_0} + \\\\\\\\frac{eB_z}{2m_e} \\\\\\\\hat{L}_z$. This term represents the interaction between the orbital angular momentum and the magnetic field along the z-axis.', 'Part_C The Schrodinger equation in the absence of an external magnetic field is: $\\\\\\\\hat{H_0} \\\\\\\\psi_{nlm_l}(r,\\\\\\\\theta,\\\\\\\\phi) = -\\\\\\\\frac{m_e e^4}{8\\\\\\\\epsilon_0^2h^2n^2} \\\\\\\\psi_{nlm_l}(r,\\\\\\\\theta,\\\\\\\\phi)$. Where $\\\\\\\\psi_{nlm_l}(r,\\\\\\\\theta,\\\\\\\\phi)$ is the wave function of the electron, $E$ is the energy eigenvalue, and $\\\\\\\\hat{H_0}$ includes only the kinetic and Coulomb potential terms.', \"Part_D In the presence of an external magnetic field, specifically aligned along the z-axis, the energy of the hydrogen atom can be described by modifying the Hamiltonian to include the interaction between the electron’s magnetic moment and the magnetic field. Hence the Schrodinger equation is now: $\\\\\\\\hat{H}\\\\\\\\psi_{nlm_l}(r,\\\\\\\\theta,\\\\\\\\phi) = \\\\\\\\hat{H_0}\\\\\\\\psi_{nlm_l}(r,\\\\\\\\theta,\\\\\\\\phi) + \\\\\\\\frac{\\\\\\\\beta_B}{\\\\\\\\hbar} B_z \\\\\\\\hat{L}_z\\\\\\\\psi_{nlm_l}(r,\\\\\\\\theta,\\\\\\\\phi)$. Hence $\\\\\\\\hat{H}\\\\\\\\psi_{nlm_l}(r,\\\\\\\\theta,\\\\\\\\phi) = (-\\\\\\\\frac{m_e e^4}{8\\\\\\\\epsilon_0^2h^2n^2} +\\\\\\\\beta_Bm_lB_z)\\\\\\\\psi_{nlm_l}(r,\\\\\\\\theta,\\\\\\\\phi)$. So $E =-\\\\\\\\frac{m_e e^4}{8\\\\\\\\epsilon_0^2h^2n^2} +\\\\\\\\beta_Bm_lB_z$. This additional term represents the interaction energy between the magnetic moment associated with the electron's orbital angular momentum and the external magnetic field. The sign and magnitude of $m_l$ determine the direction and strength of this interaction relative to the magnetic field. The overall effect is that the energy levels of the hydrogen atom are split into multiple levels, depending on the value of $m_l$, which quantifies the component of the angular momentum along the direction of the magnetic field. This splitting is a direct manifestation of the Zeeman effect, which can lead to observable spectral lines corresponding to transitions between these split energy levels.\"]\"\n",
      "Common mistakes: \n",
      "\t- student does not recall ability to generate schrodinger equation from classical description of the system\n",
      "\t- student does not recognize that the Hamiltonian operator must be modified to account for the magnetic field\n",
      "\t- student does not recognize that the energy levels of the hydrogen atom are split in the presence of an external magnetic field\n",
      "\t- student cannot connect back to eigenvalue equation involving angular momentum in z direction\n",
      "\n"
     ]
    }
   ],
   "source": [
    "question_id = \"Q7_43\"\n",
    "student_id = \"student_3\"\n",
    "\n",
    "question = questions[question_id]\n",
    "student_answer = answers[question_id][student_id]\n",
    "\n",
    "content = create_content(question, student_answer)\n",
    "print(content)"
   ]
  },
  {
   "cell_type": "markdown",
   "metadata": {},
   "source": [
    "Now we start a new conversation thread and send our content as a messages to our assistant.  This can take some time to run."
   ]
  },
  {
   "cell_type": "code",
   "execution_count": 14,
   "metadata": {},
   "outputs": [
    {
     "data": {
      "text/markdown": [
       "**Bot Message**:\n"
      ],
      "text/plain": [
       "<IPython.core.display.Markdown object>"
      ]
     },
     "metadata": {},
     "output_type": "display_data"
    },
    {
     "data": {
      "text/markdown": [
       "Your answer touches on the concept of energy modification in the presence of an external field, but it incorrectly attributes this change to the absorption of a photon, which is not relevant to the scenario described in the question. The question specifically deals with the modification of the hydrogen atom's energy due to an external magnetic field, not due to photon absorption. Let's break down the correct approach and where your answer could be improved:\n",
       "\n",
       "1. **Modification of the Hydrogen Atom's Energy**:\n",
       "   - **Correct Concept**: The energy of the hydrogen atom in a magnetic field is modified by adding a term that accounts for the interaction between the magnetic moment of the electron and the magnetic field. This is not due to photon absorption but due to the magnetic interaction.\n",
       "   - **Your Answer**: You mentioned adding photon energy, which is incorrect in this context. The energy modification here is due to the Zeeman effect, not photon interaction.\n",
       "\n",
       "2. **Hamiltonian Operator Modification**:\n",
       "   - **Correct Concept**: The Hamiltonian for the hydrogen atom in a magnetic field, $\\hat{H}$, is given by $\\hat{H} = \\hat{H}_0 + \\frac{eB_z}{2m_e} \\hat{L}_z$. This includes the original Hamiltonian $\\hat{H}_0$ (kinetic + Coulomb potential energy) and an additional term for the magnetic interaction.\n",
       "   - **Your Answer**: You did not mention how the Hamiltonian is modified with the magnetic field. Understanding that $\\hat{H}_0$ is modified by adding a term proportional to $\\hat{L}_z$ is crucial.\n",
       "\n",
       "3. **Schrodinger Equation in the Absence of a Magnetic Field**:\n",
       "   - **Correct Concept**: The Schrodinger equation without the magnetic field is $\\hat{H}_0 \\psi = E \\psi$, where $E$ is the energy eigenvalue, and $\\psi$ is the wave function.\n",
       "   - **Your Answer**: This part was not addressed. It's important to recall how to write the Schrodinger equation using $\\hat{H}_0$ alone.\n",
       "\n",
       "4. **Energy in the Presence of a Magnetic Field**:\n",
       "   - **Correct Concept**: With the magnetic field, the energy levels of the hydrogen atom are split due to the Zeeman effect. The energy can be expressed as $E = E_0 + \\beta_B m_l B_z$, where $E_0$ is the original energy without the field, and the additional term represents the magnetic interaction.\n",
       "   - **Your Answer**: You did not address how the energy levels are specifically modified by the magnetic field and the role of $\\hat{L}_z$ in this context.\n",
       "\n",
       "**Suggestions for Improvement**:\n",
       "- Review the concept of the Zeeman effect and how it modifies the energy levels of atoms in a magnetic field. This is crucial for understanding the interaction terms added to the Hamiltonian.\n",
       "- Understand the role of the angular momentum operator $\\hat{L}_z$ in the context of a magnetic field and how it contributes to the Hamiltonian.\n",
       "- Revisit how to derive the Schrodinger equation from the Hamiltonian, both with and without an external magnetic field.\n",
       "\n",
       "**Recommended Sections for Review**:\n",
       "- Chapter 4, Section 4.5 on Quantum-Mechanical Operators and their role in Hamiltonians.\n",
       "- Chapter 5, Section 5.6 for a detailed discussion on the effects of magnetic fields on atomic systems and the derivation of the Zeeman effect.\n",
       "\n",
       "By focusing on these areas, you can better understand how external fields influence quantum systems and how to correctly modify the Hamiltonian and energy expressions in these scenarios.\n"
      ],
      "text/plain": [
       "<IPython.core.display.Markdown object>"
      ]
     },
     "metadata": {},
     "output_type": "display_data"
    },
    {
     "data": {
      "text/markdown": [
       "\n",
       "**Run object attributes**:\n",
       "- status: completed\n",
       "- temperature: 0.1\n",
       "- tools: [FileSearchTool(type='file_search')]\n",
       "- usage: Usage(completion_tokens=745, prompt_tokens=4373, total_tokens=5118)\n"
      ],
      "text/plain": [
       "<IPython.core.display.Markdown object>"
      ]
     },
     "metadata": {},
     "output_type": "display_data"
    }
   ],
   "source": [
    "thread, messages, run = get_guidance_and_feedback(\n",
    "    client, content, tutor_agent_id, temperature=0.1, thread_id=None, show_run=True)"
   ]
  },
  {
   "cell_type": "markdown",
   "metadata": {},
   "source": [
    "Now we have started the thread, we can continue if we want the chat with the bot."
   ]
  },
  {
   "cell_type": "code",
   "execution_count": 15,
   "metadata": {},
   "outputs": [
    {
     "data": {
      "text/markdown": [
       "**Bot Message**:\n"
      ],
      "text/plain": [
       "<IPython.core.display.Markdown object>"
      ]
     },
     "metadata": {},
     "output_type": "display_data"
    },
    {
     "data": {
      "text/markdown": [
       "The splitting of energy levels in an atom when subjected to an external magnetic field, known as the Zeeman effect, is typically discussed in sections of the textbook that deal with the interaction of atomic systems with magnetic fields. In the context of the \"Quantum Chemistry\" textbook by Donald A. Macquarrie, you should look into:\n",
       "\n",
       "- **Chapter 5, Section 5.6**: This section is likely to discuss the effects of magnetic fields on atomic systems, including the Zeeman effect. It explains how the Hamiltonian is modified by the presence of a magnetic field and how this leads to the splitting of energy levels.\n",
       "\n",
       "Reviewing this section will provide a detailed understanding of how magnetic fields interact with atomic systems, leading to observable phenomena like the Zeeman effect. This is crucial for understanding both the theoretical and practical implications of quantum mechanics in fields such as spectroscopy.\n"
      ],
      "text/plain": [
       "<IPython.core.display.Markdown object>"
      ]
     },
     "metadata": {},
     "output_type": "display_data"
    },
    {
     "data": {
      "text/markdown": [
       "\n",
       "**Run object attributes**:\n",
       "- status: completed\n",
       "- temperature: 0.1\n",
       "- tools: [FileSearchTool(type='file_search')]\n",
       "- usage: Usage(completion_tokens=178, prompt_tokens=5145, total_tokens=5323)\n"
      ],
      "text/plain": [
       "<IPython.core.display.Markdown object>"
      ]
     },
     "metadata": {},
     "output_type": "display_data"
    }
   ],
   "source": [
    "follow_up = \"Which section of the textbook explains the splitting of energy levels when the atom is in an external magnetic field?\"\n",
    "thread, messages, run = get_guidance_and_feedback(\n",
    "    client, follow_up, tutor_agent_id, temperature=0.1, thread_id=thread, show_run=True)"
   ]
  },
  {
   "cell_type": "code",
   "execution_count": null,
   "metadata": {},
   "outputs": [
    {
     "data": {
      "text/markdown": [
       "**Bot Message**:\n"
      ],
      "text/plain": [
       "<IPython.core.display.Markdown object>"
      ]
     },
     "metadata": {},
     "output_type": "display_data"
    },
    {
     "data": {
      "text/markdown": [
       "The second postulate of quantum mechanics, which involves replacing classical observables with quantum mechanical operators, is typically discussed in the context of the formulation of quantum mechanics principles. In the textbook \"Quantum Chemistry\" by Donald A. Macquarrie, you can find detailed explanations of this postulate in:\n",
       "\n",
       "- **Chapter 3**, specifically in the sections that discuss quantum operators and their application in quantum mechanics.\n",
       "\n",
       "This section will help you understand how physical observables are represented as operators in the quantum mechanical framework, which is crucial for formulating the Hamiltonian and solving the Schrödinger equation.\n"
      ],
      "text/plain": [
       "<IPython.core.display.Markdown object>"
      ]
     },
     "metadata": {},
     "output_type": "display_data"
    },
    {
     "data": {
      "text/markdown": [
       "\n",
       "**Run object attributes**:\n",
       "- status: completed\n",
       "- temperature: 0.1\n",
       "- tools: [FileSearchTool(type='file_search')]\n",
       "- usage: Usage(completion_tokens=123, prompt_tokens=4269, total_tokens=4392)\n"
      ],
      "text/plain": [
       "<IPython.core.display.Markdown object>"
      ]
     },
     "metadata": {},
     "output_type": "display_data"
    }
   ],
   "source": [
    "follow_up = \"Which section of the textbook explains the second postulate of quantum mechanics?\"\n",
    "thread, messages, run = get_guidance_and_feedback(\n",
    "    client, follow_up, tutor_agent_id, temperature=0.1, thread_id=thread, show_run=True)"
   ]
  },
  {
   "cell_type": "code",
   "execution_count": 18,
   "metadata": {},
   "outputs": [
    {
     "name": "stdout",
     "output_type": "stream",
     "text": [
      "This is an example $\\times$ with LaTeX and escaped characters.\n"
     ]
    }
   ],
   "source": [
    "import json\n",
    "\n",
    "json_data = '''\n",
    "{\n",
    "    \"example\": \"This is an example $\\\\\\\\times$ with LaTeX and escaped characters.\"\n",
    "}\n",
    "'''\n",
    "\n",
    "# Correctly parse JSON from a string\n",
    "data = json.loads(json_data)\n",
    "\n",
    "# Print the result\n",
    "print(data['example'])\n"
   ]
  }
 ],
 "metadata": {
  "kernelspec": {
   "display_name": "env",
   "language": "python",
   "name": "python3"
  },
  "language_info": {
   "codemirror_mode": {
    "name": "ipython",
    "version": 3
   },
   "file_extension": ".py",
   "mimetype": "text/x-python",
   "name": "python",
   "nbconvert_exporter": "python",
   "pygments_lexer": "ipython3",
   "version": "3.12.3"
  }
 },
 "nbformat": 4,
 "nbformat_minor": 2
}
