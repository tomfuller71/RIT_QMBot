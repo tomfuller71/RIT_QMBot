{
 "cells": [
  {
   "cell_type": "code",
   "execution_count": 1,
   "metadata": {},
   "outputs": [],
   "source": [
    "import sys\n",
    "import os\n",
    "from pathlib import Path\n",
    "\n",
    "from IPython.display import display, Markdown\n",
    "from openai import OpenAI\n",
    "from dotenv import dotenv_values\n",
    "\n",
    "# Add the parent directory to sys.path so Python can find the Utils module\n",
    "sys.path.append(os.path.abspath(\"..\"))\n",
    "\n",
    "from Utils import (\n",
    "    get_guidance_and_feedback,\n",
    "    get_questions_and_answers,\n",
    "    create_content,\n",
    ")\n",
    "\n",
    "# Get required environment variables\n",
    "config = dotenv_values(\"../.env\")\n",
    "open_api_key = config.get(\"OPENAI_API_KEY\", None)\n",
    "tutor_agent_id = config.get(\"TUTOR_AGENT_ID\", None)\n",
    "\n",
    "# Check if the environment variables are set\n",
    "if not (tutor_agent_id and open_api_key):\n",
    "    print(\"Need TUTOR_AGENT_ID and OPEN_API_KEY in the .env file\")\n",
    "    sys.exit(1)\n",
    "\n",
    "# Create the OpenAI client\n",
    "client = OpenAI(api_key=config[\"OPENAI_API_KEY\"])"
   ]
  },
  {
   "cell_type": "markdown",
   "metadata": {},
   "source": [
    "Generate the content for our prompt message to our bot.  Our prompt must look like the input examples we provided to our assistant in its instructions.  For this toy example we are using JSON files of question data and student answers as a store."
   ]
  },
  {
   "cell_type": "code",
   "execution_count": 2,
   "metadata": {},
   "outputs": [],
   "source": [
    "q_path = Path('../Data/question_store.json')\n",
    "a_path = Path('../Data/student_answers.json')\n",
    "questions, answers = get_questions_and_answers(q_path, a_path)"
   ]
  },
  {
   "cell_type": "markdown",
   "metadata": {},
   "source": [
    "Having loaded the question and answer data we can now create input content."
   ]
  },
  {
   "cell_type": "code",
   "execution_count": 6,
   "metadata": {},
   "outputs": [
    {
     "name": "stdout",
     "output_type": "stream",
     "text": [
      "Input:\n",
      "Exam Question: \"Given, $E_v = h\\\\nu(v+1/2)$ explain the terms in this equation. Explain how this equation is developed, invoking our 5 fundamental rules of quantum mechanics. (You are not expected to do an explicit mathematical derivation).\"\n",
      "Student Answer: \"$h$ is planck's constant, $E_v$ is energy, v is quantum number and $\\\\nu$ is the frequency. The equation is based on a classical physics equation and variables that can be observed or replaced with quantum numbers. The Schrodinger equation is then built and solved, followed by boundary conditions being added.\"\n",
      "Concepts Tested: \n",
      "\t- Recognition of eigenvalue for simple harmonic oscillator.\n",
      "\t- Knowledge of five key rules in the application of quantum mechanics to physical systems. 1) Classical Description: Define the system's energy using classical physics. 2) Quantum Operators: Replace each physical observable (e.g., momentum, position) with its corresponding quantum mechanical operator. 3) Hamiltonian Development: Construct the Hamiltonian operator from the kinetic and potential energies, using the operators from rule two. 4)Schrödinger Equation: Insert the Hamiltonian into the Schrödinger equation and solve for the wavefunction, which serves as the eigenfunction. 5) Boundary Conditions: Adjust the solution to satisfy the system's boundary conditions, ensuring all probabilities sum to unity.\n",
      "Example Good Answer: \"In the equation, $E_v = h\\\\nu(v+1/2)$ we can describe the terms as follows: $E_v$ is the eigenvalue for energy for the simple harmonic oscillator as described with quantum mechanics, $h$ is Planck's Constant, $nu$ is the frequency of the oscillation of the simple harmonic oscillator, $v$ is the quantum number that results mathematically from the solution to the Schrödinger equation for the harmonic oscillator.\\nIn our application of quantum mechanics, we follow five key rules:  \\n- Classical Description: Define the system's energy using classical physics.\\n- Quantum Operators: Replace each physical observable (e.g., momentum, position) with its corresponding quantum mechanical operator.\\n- Hamiltonian Development: Construct the Hamiltonian operator from the kinetic and potential energies, using the operators from rule two.\\n- Schrödinger Equation: Insert the Hamiltonian into the Schrödinger equation and solve for the wavefunction, which serves as the eigenfunction.\\n- Boundary Conditions: Adjust the solution to satisfy the system's boundary conditions, ensuring all probabilities sum to unity. \\nThe wavefunction, when applied to the Schrödinger equation, determines the total energy Ev representing the eigenvalue of the system.\"\n",
      "Common mistakes: \n",
      "\t- The student wrongly connects the energy of the photon with the energy of the system to which we are providing a quantum mechanical description.\n",
      "\t- The student does not recognize the equation above is the eigenvalue associated with the simple harmonic oscillator. In that case they are unable to connect the rest of the problem to the simple harmonic oscillator.\n",
      "\t- The student’s answer is incomplete because they only describe one or two of the rules, for example they may describe the kinetic and potential energy classically, but they neglect to describe that quantum mechanical operators need to be introduced for momentum and for position, respectively.\n",
      "\n"
     ]
    }
   ],
   "source": [
    "question_id = \"Q3\"\n",
    "student_id = \"student_8\"\n",
    "\n",
    "question = questions[question_id]\n",
    "student_answer = answers[question_id][student_id]\n",
    "\n",
    "content = create_content(question, student_answer)\n",
    "print(content)"
   ]
  },
  {
   "cell_type": "markdown",
   "metadata": {},
   "source": [
    "Now we start a new conversation thread and send our content as a messages to our assistant.  This can take some time to run."
   ]
  },
  {
   "cell_type": "code",
   "execution_count": 7,
   "metadata": {},
   "outputs": [
    {
     "data": {
      "text/markdown": [
       "**Bot Message**:\n"
      ],
      "text/plain": [
       "<IPython.core.display.Markdown object>"
      ]
     },
     "metadata": {},
     "output_type": "display_data"
    },
    {
     "data": {
      "text/markdown": [
       "Your answer provides a basic understanding of the terms in the equation $E_v = h\\nu(v+1/2)$, but it lacks depth in explaining how these terms relate to the quantum mechanical description of a simple harmonic oscillator and the application of the five fundamental rules of quantum mechanics.\n",
       "\n",
       "1. **Correct Elements in Your Answer:**\n",
       "   - You correctly identified $h$ as Planck's constant, $E_v$ as energy, $v$ as the quantum number, and $\\nu$ as the frequency.\n",
       "   - You mentioned the Schrödinger equation and boundary conditions, which are indeed part of the process.\n",
       "\n",
       "2. **Areas Needing Improvement:**\n",
       "   - **Connection to Simple Harmonic Oscillator:** The equation $E_v = h\\nu(v+1/2)$ specifically describes the energy levels of a quantum mechanical harmonic oscillator, not a general energy equation derived from classical physics. This distinction is crucial as it highlights the quantization of energy levels.\n",
       "   - **Detailed Application of Quantum Mechanics Rules:**\n",
       "     - **Classical Description:** You should explicitly state that the classical analogy for the harmonic oscillator helps in forming the quantum description.\n",
       "     - **Quantum Operators:** Mention how physical observables like position and momentum are replaced by their corresponding quantum operators.\n",
       "     - **Hamiltonian Development:** Discuss how these operators are used to construct the Hamiltonian for the harmonic oscillator.\n",
       "     - **Schrödinger Equation:** Explain that solving this equation with the Hamiltonian gives the wave functions and energy eigenvalues.\n",
       "     - **Boundary Conditions:** Elaborate on how these ensure the physical acceptability of the wave functions, leading to quantized energy levels.\n",
       "   - **Depth and Precision:** Your answer should more precisely connect these rules to how they lead to the derivation of the given energy equation for the harmonic oscillator.\n",
       "\n",
       "3. **Textbook Sections for Review:**\n",
       "   - Initially, I would recommend reviewing Chapter 5, Section 5.6 on the Harmonic Oscillator. However, if you find that section not as helpful, please let me know, and I will provide a more accurate reference.\n",
       "\n",
       "By revisiting these sections and focusing on the specific application of quantum mechanics to the harmonic oscillator, you can enhance your understanding and ability to explain these concepts more thoroughly.\n"
      ],
      "text/plain": [
       "<IPython.core.display.Markdown object>"
      ]
     },
     "metadata": {},
     "output_type": "display_data"
    },
    {
     "data": {
      "text/markdown": [
       "\n",
       "**Run object attributes**:\n",
       "- status: completed\n",
       "- temperature: 0.1\n",
       "- tools: [FileSearchTool(type='file_search')]\n",
       "- usage: Usage(completion_tokens=466, prompt_tokens=3817, total_tokens=4283)\n"
      ],
      "text/plain": [
       "<IPython.core.display.Markdown object>"
      ]
     },
     "metadata": {},
     "output_type": "display_data"
    }
   ],
   "source": [
    "thread, messages, run = get_guidance_and_feedback(\n",
    "    client, content, tutor_agent_id, temperature=0.1, thread_id=None, show_run=True)"
   ]
  },
  {
   "cell_type": "markdown",
   "metadata": {},
   "source": [
    "Now we have started the thread, we can continue if we want the chat with the bot."
   ]
  },
  {
   "cell_type": "code",
   "execution_count": 6,
   "metadata": {},
   "outputs": [
    {
     "data": {
      "text/markdown": [
       "**Bot Message**:\n"
      ],
      "text/plain": [
       "<IPython.core.display.Markdown object>"
      ]
     },
     "metadata": {},
     "output_type": "display_data"
    },
    {
     "data": {
      "text/markdown": [
       "For a detailed explanation on the motion of an electric charge around a loop and how it generates a magnetic moment, you can refer to Chapter 7, specifically section 7.4 in the textbook \"Quantum Chemistry\" by Donald A. Macquarrie. This section explains the relationship between current, magnetic moment, and the motion of charges in circular paths, which is directly relevant to your question about the current generated by an electron in orbit.\n",
       "\n",
       "Here's the specific citation from the textbook:\n",
       "- Chapter 7.4, \"The Energy Levels of a Hydrogen Atom Are Split by a Magnetic Field\" [0].\n",
       "\n",
       "This section will provide you with the necessary background and formulas to understand and calculate the current generated by an orbiting electron, including how to handle the charge and velocity of the electron in the context of magnetic fields and circular motion.\n",
       "[0] None from QUANTUM_CHEMISTRY_SECOND_EDITION.pdf"
      ],
      "text/plain": [
       "<IPython.core.display.Markdown object>"
      ]
     },
     "metadata": {},
     "output_type": "display_data"
    },
    {
     "data": {
      "text/markdown": [
       "\n",
       "**Run object attributes**:\n",
       "- status: completed\n",
       "- temperature: 0.1\n",
       "- tools: [FileSearchTool(type='file_search')]\n",
       "- usage: Usage(completion_tokens=206, prompt_tokens=24057, total_tokens=24263)\n"
      ],
      "text/plain": [
       "<IPython.core.display.Markdown object>"
      ]
     },
     "metadata": {},
     "output_type": "display_data"
    }
   ],
   "source": [
    "follow_up = \"I can't find any information on orbiting electrons and current in section 3.1. Please can you look again in the textbook and tell me where to look?\"\n",
    "thread, messages, run = get_guidance_and_feedback(\n",
    "    client, follow_up, tutor_agent_id, temperature=0.1, thread_id=thread, show_run=True)"
   ]
  },
  {
   "cell_type": "code",
   "execution_count": null,
   "metadata": {},
   "outputs": [
    {
     "data": {
      "text/markdown": [
       "**Bot Message**:\n"
      ],
      "text/plain": [
       "<IPython.core.display.Markdown object>"
      ]
     },
     "metadata": {},
     "output_type": "display_data"
    },
    {
     "data": {
      "text/markdown": [
       "The second postulate of quantum mechanics, which involves replacing classical observables with quantum mechanical operators, is typically discussed in the context of the formulation of quantum mechanics principles. In the textbook \"Quantum Chemistry\" by Donald A. Macquarrie, you can find detailed explanations of this postulate in:\n",
       "\n",
       "- **Chapter 3**, specifically in the sections that discuss quantum operators and their application in quantum mechanics.\n",
       "\n",
       "This section will help you understand how physical observables are represented as operators in the quantum mechanical framework, which is crucial for formulating the Hamiltonian and solving the Schrödinger equation.\n"
      ],
      "text/plain": [
       "<IPython.core.display.Markdown object>"
      ]
     },
     "metadata": {},
     "output_type": "display_data"
    },
    {
     "data": {
      "text/markdown": [
       "\n",
       "**Run object attributes**:\n",
       "- status: completed\n",
       "- temperature: 0.1\n",
       "- tools: [FileSearchTool(type='file_search')]\n",
       "- usage: Usage(completion_tokens=123, prompt_tokens=4269, total_tokens=4392)\n"
      ],
      "text/plain": [
       "<IPython.core.display.Markdown object>"
      ]
     },
     "metadata": {},
     "output_type": "display_data"
    }
   ],
   "source": [
    "follow_up = \"Which section of the textbook explains the second postulate of quantum mechanics?\"\n",
    "thread, messages, run = get_guidance_and_feedback(\n",
    "    client, follow_up, tutor_agent_id, temperature=0.1, thread_id=thread, show_run=True)"
   ]
  },
  {
   "cell_type": "code",
   "execution_count": 18,
   "metadata": {},
   "outputs": [
    {
     "name": "stdout",
     "output_type": "stream",
     "text": [
      "This is an example $\\times$ with LaTeX and escaped characters.\n"
     ]
    }
   ],
   "source": [
    "import json\n",
    "\n",
    "json_data = '''\n",
    "{\n",
    "    \"example\": \"This is an example $\\\\\\\\times$ with LaTeX and escaped characters.\"\n",
    "}\n",
    "'''\n",
    "\n",
    "# Correctly parse JSON from a string\n",
    "data = json.loads(json_data)\n",
    "\n",
    "# Print the result\n",
    "print(data['example'])\n"
   ]
  }
 ],
 "metadata": {
  "kernelspec": {
   "display_name": "env",
   "language": "python",
   "name": "python3"
  },
  "language_info": {
   "codemirror_mode": {
    "name": "ipython",
    "version": 3
   },
   "file_extension": ".py",
   "mimetype": "text/x-python",
   "name": "python",
   "nbconvert_exporter": "python",
   "pygments_lexer": "ipython3",
   "version": "3.12.3"
  }
 },
 "nbformat": 4,
 "nbformat_minor": 2
}
